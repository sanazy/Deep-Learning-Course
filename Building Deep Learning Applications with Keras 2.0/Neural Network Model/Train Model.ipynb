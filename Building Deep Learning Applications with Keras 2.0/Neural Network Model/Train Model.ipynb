{
 "cells": [
  {
   "cell_type": "code",
   "execution_count": 1,
   "metadata": {},
   "outputs": [
    {
     "name": "stderr",
     "output_type": "stream",
     "text": [
      "Using TensorFlow backend.\n"
     ]
    }
   ],
   "source": [
    "import pandas as pd\n",
    "from sklearn.preprocessing import MinMaxScaler\n",
    "\n",
    "import keras\n",
    "import tensorflow as tf\n",
    "from tensorflow.keras.models import Sequential\n",
    "from tensorflow.keras.layers import *"
   ]
  },
  {
   "cell_type": "markdown",
   "metadata": {},
   "source": [
    "#### Load Data"
   ]
  },
  {
   "cell_type": "code",
   "execution_count": 2,
   "metadata": {},
   "outputs": [],
   "source": [
    "# Load training data set from CSV file\n",
    "training_data_df = pd.read_csv(\"sales_data_training.csv\")\n",
    "\n",
    "# Load testing data set from CSV file\n",
    "test_data_df = pd.read_csv(\"sales_data_test.csv\")"
   ]
  },
  {
   "cell_type": "markdown",
   "metadata": {},
   "source": [
    "#### Scale Data"
   ]
  },
  {
   "cell_type": "code",
   "execution_count": 3,
   "metadata": {},
   "outputs": [],
   "source": [
    "# Data needs to be scaled to a small range like 0 to 1 for the neural\n",
    "# network to work well.\n",
    "scaler = MinMaxScaler(feature_range=(0, 1))\n",
    "\n",
    "# Scale both the training inputs and outputs\n",
    "scaled_training = scaler.fit_transform(training_data_df)\n",
    "scaled_testing = scaler.transform(test_data_df)"
   ]
  },
  {
   "cell_type": "code",
   "execution_count": 4,
   "metadata": {},
   "outputs": [
    {
     "name": "stdout",
     "output_type": "stream",
     "text": [
      "Note: total_earnings values were scaled by multiplying by 0.0000036968 and adding -0.115913\n"
     ]
    }
   ],
   "source": [
    "# Print out the adjustment that the scaler applied to the total_earnings column of data\n",
    "print(\"Note: total_earnings values were scaled by multiplying by {:.10f} and adding {:.6f}\".format(scaler.scale_[8], scaler.min_[8]))"
   ]
  },
  {
   "cell_type": "markdown",
   "metadata": {},
   "source": [
    "#### Train and Test Split"
   ]
  },
  {
   "cell_type": "code",
   "execution_count": 5,
   "metadata": {},
   "outputs": [],
   "source": [
    "# Create new pandas DataFrame objects from the scaled data\n",
    "scaled_training_df = pd.DataFrame(scaled_training, columns=training_data_df.columns.values)\n",
    "scaled_testing_df = pd.DataFrame(scaled_testing, columns=test_data_df.columns.values)"
   ]
  },
  {
   "cell_type": "code",
   "execution_count": 6,
   "metadata": {},
   "outputs": [],
   "source": [
    "X_train = scaled_training_df.drop('total_earnings', axis=1).values\n",
    "Y_train = scaled_training_df[['total_earnings']].values\n",
    "\n",
    "X_test = scaled_testing_df.drop('total_earnings', axis=1).values\n",
    "Y_test = scaled_testing_df[['total_earnings']].values"
   ]
  },
  {
   "cell_type": "markdown",
   "metadata": {},
   "source": [
    "#### Define the Model"
   ]
  },
  {
   "cell_type": "code",
   "execution_count": 7,
   "metadata": {},
   "outputs": [],
   "source": [
    "#RUN_NAME = \"run-1-with-50-nodes\"\n",
    "RUN_NAME = \"run-2-with-5-nodes\""
   ]
  },
  {
   "cell_type": "code",
   "execution_count": 8,
   "metadata": {},
   "outputs": [],
   "source": [
    "model = Sequential()\n",
    "#model.add(Dense(50, input_dim=9, activation='relu', name='layer_1'))\n",
    "model.add(Dense(5, input_dim=9, activation='relu', name='layer_1'))\n",
    "model.add(Dense(100, activation='relu', name='layer_2'))\n",
    "model.add(Dense(50, activation='relu', name='layer_3'))\n",
    "model.add(Dense(1, activation='linear', name='output_layer'))\n",
    "model.compile(loss='mean_squared_error', optimizer='adam')"
   ]
  },
  {
   "cell_type": "markdown",
   "metadata": {},
   "source": [
    "#### TensorBoard logger"
   ]
  },
  {
   "cell_type": "code",
   "execution_count": 9,
   "metadata": {},
   "outputs": [],
   "source": [
    "logger = tf.keras.callbacks.TensorBoard(\n",
    "    log_dir='logs\\{}'.format(RUN_NAME),\n",
    "    write_graph=True,\n",
    "    histogram_freq=5\n",
    ")"
   ]
  },
  {
   "cell_type": "markdown",
   "metadata": {},
   "source": [
    "#### Train the Model"
   ]
  },
  {
   "cell_type": "code",
   "execution_count": 10,
   "metadata": {},
   "outputs": [
    {
     "name": "stdout",
     "output_type": "stream",
     "text": [
      "Train on 1000 samples\n",
      "Epoch 1/50\n",
      "1000/1000 - 1s - loss: 0.0478\n",
      "Epoch 2/50\n",
      "1000/1000 - 0s - loss: 0.0185\n",
      "Epoch 3/50\n",
      "1000/1000 - 0s - loss: 0.0140\n",
      "Epoch 4/50\n",
      "1000/1000 - 0s - loss: 0.0115\n",
      "Epoch 5/50\n",
      "1000/1000 - 0s - loss: 0.0098\n",
      "Epoch 6/50\n",
      "1000/1000 - 0s - loss: 0.0089\n",
      "Epoch 7/50\n",
      "1000/1000 - 0s - loss: 0.0074\n",
      "Epoch 8/50\n",
      "1000/1000 - 0s - loss: 0.0066\n",
      "Epoch 9/50\n",
      "1000/1000 - 0s - loss: 0.0059\n",
      "Epoch 10/50\n",
      "1000/1000 - 0s - loss: 0.0052\n",
      "Epoch 11/50\n",
      "1000/1000 - 0s - loss: 0.0046\n",
      "Epoch 12/50\n",
      "1000/1000 - 0s - loss: 0.0042\n",
      "Epoch 13/50\n",
      "1000/1000 - 0s - loss: 0.0037\n",
      "Epoch 14/50\n",
      "1000/1000 - 0s - loss: 0.0034\n",
      "Epoch 15/50\n",
      "1000/1000 - 0s - loss: 0.0031\n",
      "Epoch 16/50\n",
      "1000/1000 - 0s - loss: 0.0028\n",
      "Epoch 17/50\n",
      "1000/1000 - 0s - loss: 0.0026\n",
      "Epoch 18/50\n",
      "1000/1000 - 0s - loss: 0.0024\n",
      "Epoch 19/50\n",
      "1000/1000 - 0s - loss: 0.0023\n",
      "Epoch 20/50\n",
      "1000/1000 - 0s - loss: 0.0021\n",
      "Epoch 21/50\n",
      "1000/1000 - 0s - loss: 0.0020\n",
      "Epoch 22/50\n",
      "1000/1000 - 0s - loss: 0.0019\n",
      "Epoch 23/50\n",
      "1000/1000 - 0s - loss: 0.0018\n",
      "Epoch 24/50\n",
      "1000/1000 - 0s - loss: 0.0016\n",
      "Epoch 25/50\n",
      "1000/1000 - 0s - loss: 0.0015\n",
      "Epoch 26/50\n",
      "1000/1000 - 0s - loss: 0.0013\n",
      "Epoch 27/50\n",
      "1000/1000 - 0s - loss: 0.0012\n",
      "Epoch 28/50\n",
      "1000/1000 - 0s - loss: 0.0011\n",
      "Epoch 29/50\n",
      "1000/1000 - 0s - loss: 0.0010\n",
      "Epoch 30/50\n",
      "1000/1000 - 0s - loss: 8.0622e-04\n",
      "Epoch 31/50\n",
      "1000/1000 - 0s - loss: 7.3314e-04\n",
      "Epoch 32/50\n",
      "1000/1000 - 0s - loss: 7.2931e-04\n",
      "Epoch 33/50\n",
      "1000/1000 - 0s - loss: 6.6142e-04\n",
      "Epoch 34/50\n",
      "1000/1000 - 0s - loss: 6.0196e-04\n",
      "Epoch 35/50\n",
      "1000/1000 - 0s - loss: 5.5471e-04\n",
      "Epoch 36/50\n",
      "1000/1000 - 0s - loss: 5.6152e-04\n",
      "Epoch 37/50\n",
      "1000/1000 - 0s - loss: 5.3622e-04\n",
      "Epoch 38/50\n",
      "1000/1000 - 0s - loss: 4.6778e-04\n",
      "Epoch 39/50\n",
      "1000/1000 - 0s - loss: 4.9124e-04\n",
      "Epoch 40/50\n",
      "1000/1000 - 0s - loss: 4.2225e-04\n",
      "Epoch 41/50\n",
      "1000/1000 - 0s - loss: 3.5409e-04\n",
      "Epoch 42/50\n",
      "1000/1000 - 0s - loss: 3.3894e-04\n",
      "Epoch 43/50\n",
      "1000/1000 - 0s - loss: 3.3901e-04\n",
      "Epoch 44/50\n",
      "1000/1000 - 0s - loss: 2.7889e-04\n",
      "Epoch 45/50\n",
      "1000/1000 - 0s - loss: 2.7185e-04\n",
      "Epoch 46/50\n",
      "1000/1000 - 0s - loss: 3.5404e-04\n",
      "Epoch 47/50\n",
      "1000/1000 - 0s - loss: 2.4420e-04\n",
      "Epoch 48/50\n",
      "1000/1000 - 0s - loss: 2.4734e-04\n",
      "Epoch 49/50\n",
      "1000/1000 - 0s - loss: 2.0762e-04\n",
      "Epoch 50/50\n",
      "1000/1000 - 0s - loss: 2.0280e-04\n"
     ]
    },
    {
     "data": {
      "text/plain": [
       "<tensorflow.python.keras.callbacks.History at 0x10e48708>"
      ]
     },
     "execution_count": 10,
     "metadata": {},
     "output_type": "execute_result"
    }
   ],
   "source": [
    "model.fit(\n",
    "    X_train,\n",
    "    Y_train,\n",
    "    epochs=50,\n",
    "    shuffle=True,\n",
    "    verbose=2,\n",
    "    callbacks=[logger]\n",
    ")"
   ]
  },
  {
   "cell_type": "markdown",
   "metadata": {},
   "source": [
    "#### Evaluate the Model"
   ]
  },
  {
   "cell_type": "code",
   "execution_count": 11,
   "metadata": {},
   "outputs": [
    {
     "name": "stdout",
     "output_type": "stream",
     "text": [
      "The mean squared error (MSE) for the test data set is: 0.00036065857857465745\n"
     ]
    }
   ],
   "source": [
    "test_error_rate = model.evaluate(X_test, Y_test, verbose=0)\n",
    "print(\"The mean squared error (MSE) for the test data set is: {}\".format(test_error_rate))"
   ]
  },
  {
   "cell_type": "markdown",
   "metadata": {},
   "source": [
    "#### Save the Model "
   ]
  },
  {
   "cell_type": "code",
   "execution_count": 12,
   "metadata": {},
   "outputs": [
    {
     "name": "stdout",
     "output_type": "stream",
     "text": [
      "Model saved to disk.\n"
     ]
    }
   ],
   "source": [
    "model.save(\"trained_model.h5\")\n",
    "print(\"Model saved to disk.\")"
   ]
  }
 ],
 "metadata": {
  "kernelspec": {
   "display_name": "Python 3",
   "language": "python",
   "name": "python3"
  },
  "language_info": {
   "codemirror_mode": {
    "name": "ipython",
    "version": 3
   },
   "file_extension": ".py",
   "mimetype": "text/x-python",
   "name": "python",
   "nbconvert_exporter": "python",
   "pygments_lexer": "ipython3",
   "version": "3.7.7"
  }
 },
 "nbformat": 4,
 "nbformat_minor": 4
}
